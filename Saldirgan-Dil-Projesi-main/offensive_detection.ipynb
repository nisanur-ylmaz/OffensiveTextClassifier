{
 "cells": [
  {
   "cell_type": "markdown",
   "id": "5f739171",
   "metadata": {},
   "source": [
    "## 1. Gerekli Kütüphanelerin Yüklenmesi ve Veri Setinin Okunması"
   ]
  },
  {
   "cell_type": "code",
   "execution_count": 2,
   "id": "8d757e3d",
   "metadata": {},
   "outputs": [
    {
     "name": "stderr",
     "output_type": "stream",
     "text": [
      "W0621 01:58:43.907000 14000 site-packages\\torch\\distributed\\elastic\\multiprocessing\\redirects.py:29] NOTE: Redirects are currently not supported in Windows or MacOs.\n"
     ]
    },
    {
     "data": {
      "text/html": [
       "<div>\n",
       "<style scoped>\n",
       "    .dataframe tbody tr th:only-of-type {\n",
       "        vertical-align: middle;\n",
       "    }\n",
       "\n",
       "    .dataframe tbody tr th {\n",
       "        vertical-align: top;\n",
       "    }\n",
       "\n",
       "    .dataframe thead th {\n",
       "        text-align: right;\n",
       "    }\n",
       "</style>\n",
       "<table border=\"1\" class=\"dataframe\">\n",
       "  <thead>\n",
       "    <tr style=\"text-align: right;\">\n",
       "      <th></th>\n",
       "      <th>text</th>\n",
       "      <th>is_offensive</th>\n",
       "      <th>target</th>\n",
       "    </tr>\n",
       "  </thead>\n",
       "  <tbody>\n",
       "    <tr>\n",
       "      <th>0</th>\n",
       "      <td>çürük dişli</td>\n",
       "      <td>1</td>\n",
       "      <td>INSULT</td>\n",
       "    </tr>\n",
       "    <tr>\n",
       "      <th>1</th>\n",
       "      <td>Bu adamın islama ve müslümanlara verdiği zarar...</td>\n",
       "      <td>1</td>\n",
       "      <td>RACIST</td>\n",
       "    </tr>\n",
       "    <tr>\n",
       "      <th>2</th>\n",
       "      <td>erkekler zora gelmez</td>\n",
       "      <td>1</td>\n",
       "      <td>SEXIST</td>\n",
       "    </tr>\n",
       "    <tr>\n",
       "      <th>3</th>\n",
       "      <td>Utanmazın götüne kazık sokmuşlar bu tıkırtı ne...</td>\n",
       "      <td>1</td>\n",
       "      <td>PROFANITY</td>\n",
       "    </tr>\n",
       "    <tr>\n",
       "      <th>4</th>\n",
       "      <td>otomasyon&lt; sistemlerine= doğrudan bağlanabilir</td>\n",
       "      <td>0</td>\n",
       "      <td>OTHER</td>\n",
       "    </tr>\n",
       "  </tbody>\n",
       "</table>\n",
       "</div>"
      ],
      "text/plain": [
       "                                                text  is_offensive     target\n",
       "0                                        çürük dişli             1     INSULT\n",
       "1  Bu adamın islama ve müslümanlara verdiği zarar...             1     RACIST\n",
       "2                               erkekler zora gelmez             1     SEXIST\n",
       "3  Utanmazın götüne kazık sokmuşlar bu tıkırtı ne...             1  PROFANITY\n",
       "4     otomasyon< sistemlerine= doğrudan bağlanabilir             0      OTHER"
      ]
     },
     "execution_count": 2,
     "metadata": {},
     "output_type": "execute_result"
    }
   ],
   "source": [
    "import pandas as pd\n",
    "import numpy as np\n",
    "import torch\n",
    "from torch.utils.data import Dataset\n",
    "from transformers import AutoTokenizer, AutoModelForSequenceClassification, Trainer, TrainingArguments\n",
    "from sklearn.model_selection import train_test_split\n",
    "from sklearn.metrics import accuracy_score, precision_recall_fscore_support, classification_report, confusion_matrix\n",
    "\n",
    "# CSV okuma\n",
    "df = pd.read_csv(\"C://Users//Yusuf//OneDrive//Masaüstü//offensive-language-detection//cümle_train.csv\", sep='|')\n",
    "\n",
    "# Gerekli sütun kontrolü\n",
    "required_columns = [\"text\", \"is_offensive\", \"target\"]\n",
    "assert all(col in df.columns for col in required_columns), \"Eksik sütun var!\"\n",
    "\n",
    "# Temizleme\n",
    "df = df[required_columns].dropna()\n",
    "df = df[df[\"is_offensive\"].isin([0, 1])]\n",
    "df.head()"
   ]
  },
  {
   "cell_type": "markdown",
   "id": "958e4130",
   "metadata": {},
   "source": [
    "## 2. Tokenizer ve Dataset Sınıfı Tanımlama"
   ]
  },
  {
   "cell_type": "code",
   "execution_count": 3,
   "id": "4cea5ae8",
   "metadata": {},
   "outputs": [
    {
     "name": "stderr",
     "output_type": "stream",
     "text": [
      "c:\\Users\\Yusuf\\Anaconda3\\Lib\\site-packages\\huggingface_hub\\file_download.py:943: FutureWarning: `resume_download` is deprecated and will be removed in version 1.0.0. Downloads always resume when possible. If you want to force a new download, use `force_download=True`.\n",
      "  warnings.warn(\n"
     ]
    }
   ],
   "source": [
    "MODEL_NAME = \"dbmdz/bert-base-turkish-cased\"\n",
    "tokenizer = AutoTokenizer.from_pretrained(MODEL_NAME)\n",
    "\n",
    "class TextDataset(Dataset):\n",
    "    def __init__(self, texts, labels, tokenizer, max_length=128):\n",
    "        self.texts = list(texts)\n",
    "        self.labels = list(labels)\n",
    "        self.tokenizer = tokenizer\n",
    "        self.max_length = max_length\n",
    "    def __len__(self):\n",
    "        return len(self.texts)\n",
    "    def __getitem__(self, idx):\n",
    "        encoding = self.tokenizer(\n",
    "            str(self.texts[idx]),\n",
    "            truncation=True,\n",
    "            padding=\"max_length\",\n",
    "            max_length=self.max_length,\n",
    "            return_tensors=\"pt\"\n",
    "        )\n",
    "        item = {key: val.squeeze(0) for key, val in encoding.items()}\n",
    "        item[\"labels\"] = torch.tensor(int(self.labels[idx]))\n",
    "        return item"
   ]
  },
  {
   "cell_type": "markdown",
   "id": "b88dfd8c",
   "metadata": {},
   "source": [
    "## 3. Eğitim ve Test Setlerinin Oluşturulması (Binary Sınıflandırma için)"
   ]
  },
  {
   "cell_type": "code",
   "execution_count": 4,
   "id": "32e7d237",
   "metadata": {},
   "outputs": [],
   "source": [
    "train_df, test_df = train_test_split(df, test_size=0.2, random_state=42, stratify=df[\"is_offensive\"])\n",
    "train_dataset = TextDataset(train_df[\"text\"], train_df[\"is_offensive\"], tokenizer)\n",
    "test_dataset = TextDataset(test_df[\"text\"], test_df[\"is_offensive\"], tokenizer)"
   ]
  },
  {
   "cell_type": "markdown",
   "id": "8991b50a",
   "metadata": {},
   "source": [
    "## 4. Binary Model Eğitimi"
   ]
  },
  {
   "cell_type": "code",
   "execution_count": 5,
   "id": "ed5fbc57",
   "metadata": {},
   "outputs": [
    {
     "name": "stderr",
     "output_type": "stream",
     "text": [
      "c:\\Users\\Yusuf\\Anaconda3\\Lib\\site-packages\\huggingface_hub\\file_download.py:943: FutureWarning: `resume_download` is deprecated and will be removed in version 1.0.0. Downloads always resume when possible. If you want to force a new download, use `force_download=True`.\n",
      "  warnings.warn(\n",
      "Some weights of BertForSequenceClassification were not initialized from the model checkpoint at dbmdz/bert-base-turkish-cased and are newly initialized: ['classifier.bias', 'classifier.weight']\n",
      "You should probably TRAIN this model on a down-stream task to be able to use it for predictions and inference.\n",
      "c:\\Users\\Yusuf\\Anaconda3\\Lib\\site-packages\\accelerate\\accelerator.py:436: FutureWarning: Passing the following arguments to `Accelerator` is deprecated and will be removed in version 1.0 of Accelerate: dict_keys(['dispatch_batches', 'split_batches', 'even_batches', 'use_seedable_sampler']). Please pass an `accelerate.DataLoaderConfiguration` instead: \n",
      "dataloader_config = DataLoaderConfiguration(dispatch_batches=None, split_batches=False, even_batches=True, use_seedable_sampler=True)\n",
      "  warnings.warn(\n"
     ]
    },
    {
     "data": {
      "application/vnd.jupyter.widget-view+json": {
       "model_id": "79ae3c27be764417943b653788b78c73",
       "version_major": 2,
       "version_minor": 0
      },
      "text/plain": [
       "  0%|          | 0/2524 [00:00<?, ?it/s]"
      ]
     },
     "metadata": {},
     "output_type": "display_data"
    },
    {
     "name": "stderr",
     "output_type": "stream",
     "text": [
      "c:\\Users\\Yusuf\\Anaconda3\\Lib\\site-packages\\torch\\utils\\data\\dataloader.py:665: UserWarning: 'pin_memory' argument is set as true but no accelerator is found, then device pinned memory won't be used.\n",
      "  warnings.warn(warn_msg)\n"
     ]
    },
    {
     "name": "stdout",
     "output_type": "stream",
     "text": [
      "{'loss': 0.4629, 'grad_norm': 0.8576146364212036, 'learning_rate': 4.9009508716323296e-05, 'epoch': 0.04}\n",
      "{'loss': 0.2313, 'grad_norm': 0.10646834969520569, 'learning_rate': 4.8019017432646596e-05, 'epoch': 0.08}\n",
      "{'loss': 0.2074, 'grad_norm': 24.114282608032227, 'learning_rate': 4.702852614896989e-05, 'epoch': 0.12}\n",
      "{'loss': 0.3601, 'grad_norm': 4.719348907470703, 'learning_rate': 4.603803486529319e-05, 'epoch': 0.16}\n",
      "{'loss': 0.305, 'grad_norm': 6.136990070343018, 'learning_rate': 4.5047543581616484e-05, 'epoch': 0.2}\n",
      "{'loss': 0.1911, 'grad_norm': 4.337399005889893, 'learning_rate': 4.4057052297939784e-05, 'epoch': 0.24}\n",
      "{'loss': 0.2006, 'grad_norm': 0.1265583485364914, 'learning_rate': 4.306656101426308e-05, 'epoch': 0.28}\n",
      "{'loss': 0.1701, 'grad_norm': 0.13188447058200836, 'learning_rate': 4.207606973058637e-05, 'epoch': 0.32}\n",
      "{'loss': 0.2072, 'grad_norm': 0.8634711503982544, 'learning_rate': 4.1085578446909665e-05, 'epoch': 0.36}\n",
      "{'loss': 0.1994, 'grad_norm': 3.396576404571533, 'learning_rate': 4.0095087163232966e-05, 'epoch': 0.4}\n",
      "{'loss': 0.221, 'grad_norm': 0.4402689039707184, 'learning_rate': 3.910459587955626e-05, 'epoch': 0.44}\n",
      "{'loss': 0.1474, 'grad_norm': 21.42434310913086, 'learning_rate': 3.811410459587956e-05, 'epoch': 0.48}\n",
      "{'loss': 0.1757, 'grad_norm': 1.4037857055664062, 'learning_rate': 3.712361331220285e-05, 'epoch': 0.52}\n",
      "{'loss': 0.1872, 'grad_norm': 20.4700984954834, 'learning_rate': 3.6133122028526154e-05, 'epoch': 0.55}\n",
      "{'loss': 0.1667, 'grad_norm': 0.6553317904472351, 'learning_rate': 3.514263074484945e-05, 'epoch': 0.59}\n",
      "{'loss': 0.1451, 'grad_norm': 0.0423109345138073, 'learning_rate': 3.415213946117274e-05, 'epoch': 0.63}\n",
      "{'loss': 0.1927, 'grad_norm': 65.40351867675781, 'learning_rate': 3.316164817749604e-05, 'epoch': 0.67}\n",
      "{'loss': 0.16, 'grad_norm': 1.3463857173919678, 'learning_rate': 3.2171156893819335e-05, 'epoch': 0.71}\n",
      "{'loss': 0.1755, 'grad_norm': 1.2569266557693481, 'learning_rate': 3.1180665610142635e-05, 'epoch': 0.75}\n",
      "{'loss': 0.1681, 'grad_norm': 0.10609529167413712, 'learning_rate': 3.0190174326465932e-05, 'epoch': 0.79}\n",
      "{'loss': 0.1189, 'grad_norm': 2.2028112411499023, 'learning_rate': 2.919968304278923e-05, 'epoch': 0.83}\n",
      "{'loss': 0.0779, 'grad_norm': 0.02065787836909294, 'learning_rate': 2.820919175911252e-05, 'epoch': 0.87}\n",
      "{'loss': 0.1162, 'grad_norm': 0.04728683829307556, 'learning_rate': 2.7218700475435816e-05, 'epoch': 0.91}\n",
      "{'loss': 0.1601, 'grad_norm': 0.026901375502347946, 'learning_rate': 2.6228209191759113e-05, 'epoch': 0.95}\n",
      "{'loss': 0.0956, 'grad_norm': 0.047531094402074814, 'learning_rate': 2.523771790808241e-05, 'epoch': 0.99}\n"
     ]
    },
    {
     "data": {
      "application/vnd.jupyter.widget-view+json": {
       "model_id": "b676df3ddc3a4ee4a83a42d1d655961a",
       "version_major": 2,
       "version_minor": 0
      },
      "text/plain": [
       "  0%|          | 0/158 [00:00<?, ?it/s]"
      ]
     },
     "metadata": {},
     "output_type": "display_data"
    },
    {
     "name": "stdout",
     "output_type": "stream",
     "text": [
      "{'eval_loss': 0.2002817988395691, 'eval_accuracy': 0.9544374009508716, 'eval_precision': 0.9773883550028265, 'eval_recall': 0.9584257206208425, 'eval_f1': 0.9678141617688217, 'eval_runtime': 131.544, 'eval_samples_per_second': 19.187, 'eval_steps_per_second': 1.201, 'epoch': 1.0}\n"
     ]
    },
    {
     "name": "stderr",
     "output_type": "stream",
     "text": [
      "c:\\Users\\Yusuf\\Anaconda3\\Lib\\site-packages\\torch\\utils\\data\\dataloader.py:665: UserWarning: 'pin_memory' argument is set as true but no accelerator is found, then device pinned memory won't be used.\n",
      "  warnings.warn(warn_msg)\n"
     ]
    },
    {
     "name": "stdout",
     "output_type": "stream",
     "text": [
      "{'loss': 0.076, 'grad_norm': 0.5033873915672302, 'learning_rate': 2.4247226624405704e-05, 'epoch': 1.03}\n",
      "{'loss': 0.0533, 'grad_norm': 0.06808745861053467, 'learning_rate': 2.3256735340729e-05, 'epoch': 1.07}\n",
      "{'loss': 0.0691, 'grad_norm': 0.014838009141385555, 'learning_rate': 2.2266244057052298e-05, 'epoch': 1.11}\n",
      "{'loss': 0.0372, 'grad_norm': 0.0318351648747921, 'learning_rate': 2.1275752773375595e-05, 'epoch': 1.15}\n",
      "{'loss': 0.0991, 'grad_norm': 96.8010482788086, 'learning_rate': 2.0285261489698892e-05, 'epoch': 1.19}\n",
      "{'loss': 0.0559, 'grad_norm': 0.030678605660796165, 'learning_rate': 1.929477020602219e-05, 'epoch': 1.23}\n",
      "{'loss': 0.0712, 'grad_norm': 0.044219471514225006, 'learning_rate': 1.8304278922345483e-05, 'epoch': 1.27}\n",
      "{'loss': 0.018, 'grad_norm': 0.009658525697886944, 'learning_rate': 1.731378763866878e-05, 'epoch': 1.31}\n",
      "{'loss': 0.1059, 'grad_norm': 0.01298596989363432, 'learning_rate': 1.6323296354992077e-05, 'epoch': 1.35}\n",
      "{'loss': 0.0722, 'grad_norm': 0.019910069182515144, 'learning_rate': 1.5332805071315373e-05, 'epoch': 1.39}\n",
      "{'loss': 0.1027, 'grad_norm': 0.15892022848129272, 'learning_rate': 1.434231378763867e-05, 'epoch': 1.43}\n",
      "{'loss': 0.0364, 'grad_norm': 0.007751193828880787, 'learning_rate': 1.3351822503961966e-05, 'epoch': 1.47}\n",
      "{'loss': 0.0548, 'grad_norm': 1.474771499633789, 'learning_rate': 1.2361331220285261e-05, 'epoch': 1.51}\n",
      "{'loss': 0.0523, 'grad_norm': 3.5986926555633545, 'learning_rate': 1.1370839936608558e-05, 'epoch': 1.55}\n",
      "{'loss': 0.0889, 'grad_norm': 0.0392356775701046, 'learning_rate': 1.0380348652931855e-05, 'epoch': 1.58}\n",
      "{'loss': 0.1153, 'grad_norm': 0.12806802988052368, 'learning_rate': 9.38985736925515e-06, 'epoch': 1.62}\n",
      "{'loss': 0.0738, 'grad_norm': 0.08372986316680908, 'learning_rate': 8.399366085578447e-06, 'epoch': 1.66}\n",
      "{'loss': 0.0291, 'grad_norm': 0.009974075481295586, 'learning_rate': 7.408874801901744e-06, 'epoch': 1.7}\n",
      "{'loss': 0.0786, 'grad_norm': 0.012933019548654556, 'learning_rate': 6.41838351822504e-06, 'epoch': 1.74}\n",
      "{'loss': 0.04, 'grad_norm': 3.70930552482605, 'learning_rate': 5.427892234548336e-06, 'epoch': 1.78}\n",
      "{'loss': 0.031, 'grad_norm': 0.11385264992713928, 'learning_rate': 4.437400950871633e-06, 'epoch': 1.82}\n",
      "{'loss': 0.0518, 'grad_norm': 6.669528007507324, 'learning_rate': 3.4469096671949285e-06, 'epoch': 1.86}\n",
      "{'loss': 0.0414, 'grad_norm': 0.0107510294765234, 'learning_rate': 2.456418383518225e-06, 'epoch': 1.9}\n",
      "{'loss': 0.0585, 'grad_norm': 0.021311184391379356, 'learning_rate': 1.4659270998415215e-06, 'epoch': 1.94}\n",
      "{'loss': 0.0653, 'grad_norm': 0.010423627682030201, 'learning_rate': 4.754358161648178e-07, 'epoch': 1.98}\n"
     ]
    },
    {
     "data": {
      "application/vnd.jupyter.widget-view+json": {
       "model_id": "09877837f6b94ad7b26aac29aec7b083",
       "version_major": 2,
       "version_minor": 0
      },
      "text/plain": [
       "  0%|          | 0/158 [00:00<?, ?it/s]"
      ]
     },
     "metadata": {},
     "output_type": "display_data"
    },
    {
     "name": "stdout",
     "output_type": "stream",
     "text": [
      "{'eval_loss': 0.15380673110485077, 'eval_accuracy': 0.9675118858954042, 'eval_precision': 0.9684439608269858, 'eval_recall': 0.9866962305986696, 'eval_f1': 0.9774848984074684, 'eval_runtime': 128.3618, 'eval_samples_per_second': 19.663, 'eval_steps_per_second': 1.231, 'epoch': 2.0}\n",
      "{'train_runtime': 5042.2601, 'train_samples_per_second': 4.003, 'train_steps_per_second': 0.501, 'train_loss': 0.12753593168338015, 'epoch': 2.0}\n"
     ]
    },
    {
     "name": "stderr",
     "output_type": "stream",
     "text": [
      "c:\\Users\\Yusuf\\Anaconda3\\Lib\\site-packages\\torch\\utils\\data\\dataloader.py:665: UserWarning: 'pin_memory' argument is set as true but no accelerator is found, then device pinned memory won't be used.\n",
      "  warnings.warn(warn_msg)\n"
     ]
    },
    {
     "data": {
      "application/vnd.jupyter.widget-view+json": {
       "model_id": "096cc0382bc74b4a8c066d01ff87d41d",
       "version_major": 2,
       "version_minor": 0
      },
      "text/plain": [
       "  0%|          | 0/158 [00:00<?, ?it/s]"
      ]
     },
     "metadata": {},
     "output_type": "display_data"
    },
    {
     "data": {
      "text/plain": [
       "{'eval_loss': 0.15380673110485077,\n",
       " 'eval_accuracy': 0.9675118858954042,\n",
       " 'eval_precision': 0.9684439608269858,\n",
       " 'eval_recall': 0.9866962305986696,\n",
       " 'eval_f1': 0.9774848984074684,\n",
       " 'eval_runtime': 130.0282,\n",
       " 'eval_samples_per_second': 19.411,\n",
       " 'eval_steps_per_second': 1.215,\n",
       " 'epoch': 2.0}"
      ]
     },
     "execution_count": 5,
     "metadata": {},
     "output_type": "execute_result"
    }
   ],
   "source": [
    "model_binary = AutoModelForSequenceClassification.from_pretrained(MODEL_NAME, num_labels=2)\n",
    "\n",
    "training_args = TrainingArguments(\n",
    "    output_dir=\"./results-binary\",\n",
    "    num_train_epochs=2,\n",
    "    per_device_train_batch_size=8,\n",
    "    per_device_eval_batch_size=16,\n",
    "    evaluation_strategy=\"epoch\",\n",
    "    save_strategy=\"no\",\n",
    "    logging_dir=\"./logs-binary\",\n",
    "    logging_steps=50,\n",
    "    report_to=[]\n",
    ")\n",
    "\n",
    "def compute_metrics(pred):\n",
    "    labels = pred.label_ids\n",
    "    preds = np.argmax(pred.predictions, axis=1)\n",
    "    precision, recall, f1, _ = precision_recall_fscore_support(labels, preds, average='binary')\n",
    "    acc = accuracy_score(labels, preds)\n",
    "    return {'accuracy': acc, 'precision': precision, 'recall': recall, 'f1': f1}\n",
    "\n",
    "trainer = Trainer(\n",
    "    model=model_binary,\n",
    "    args=training_args,\n",
    "    train_dataset=train_dataset,\n",
    "    eval_dataset=test_dataset,\n",
    "    compute_metrics=compute_metrics\n",
    ")\n",
    "\n",
    "trainer.train()\n",
    "trainer.evaluate()"
   ]
  },
  {
   "cell_type": "markdown",
   "id": "ffe04fdd",
   "metadata": {},
   "source": [
    "## 5. Binary Sınıflandırma için Detaylı Rapor"
   ]
  },
  {
   "cell_type": "code",
   "execution_count": 6,
   "id": "277676c1",
   "metadata": {},
   "outputs": [
    {
     "name": "stderr",
     "output_type": "stream",
     "text": [
      "c:\\Users\\Yusuf\\Anaconda3\\Lib\\site-packages\\torch\\utils\\data\\dataloader.py:665: UserWarning: 'pin_memory' argument is set as true but no accelerator is found, then device pinned memory won't be used.\n",
      "  warnings.warn(warn_msg)\n"
     ]
    },
    {
     "data": {
      "application/vnd.jupyter.widget-view+json": {
       "model_id": "0ceef2e6f49f479fb35ee11ca0cc2bbb",
       "version_major": 2,
       "version_minor": 0
      },
      "text/plain": [
       "  0%|          | 0/158 [00:00<?, ?it/s]"
      ]
     },
     "metadata": {},
     "output_type": "display_data"
    },
    {
     "name": "stdout",
     "output_type": "stream",
     "text": [
      "              precision    recall  f1-score   support\n",
      "\n",
      "           0       0.97      0.92      0.94       720\n",
      "           1       0.97      0.99      0.98      1804\n",
      "\n",
      "    accuracy                           0.97      2524\n",
      "   macro avg       0.97      0.95      0.96      2524\n",
      "weighted avg       0.97      0.97      0.97      2524\n",
      "\n"
     ]
    }
   ],
   "source": [
    "preds = trainer.predict(test_dataset)\n",
    "y_true = preds.label_ids\n",
    "y_pred = np.argmax(preds.predictions, axis=1)\n",
    "print(classification_report(y_true, y_pred))"
   ]
  },
  {
   "cell_type": "markdown",
   "id": "62ceb6d7",
   "metadata": {},
   "source": [
    "## 6. Multi-Class Sınıflandırma (Saldırganlık Türleri)"
   ]
  },
  {
   "cell_type": "code",
   "execution_count": 7,
   "id": "09cc98a3",
   "metadata": {},
   "outputs": [
    {
     "name": "stderr",
     "output_type": "stream",
     "text": [
      "c:\\Users\\Yusuf\\Anaconda3\\Lib\\site-packages\\huggingface_hub\\file_download.py:943: FutureWarning: `resume_download` is deprecated and will be removed in version 1.0.0. Downloads always resume when possible. If you want to force a new download, use `force_download=True`.\n",
      "  warnings.warn(\n",
      "Some weights of BertForSequenceClassification were not initialized from the model checkpoint at dbmdz/bert-base-turkish-cased and are newly initialized: ['classifier.bias', 'classifier.weight']\n",
      "You should probably TRAIN this model on a down-stream task to be able to use it for predictions and inference.\n",
      "c:\\Users\\Yusuf\\Anaconda3\\Lib\\site-packages\\accelerate\\accelerator.py:436: FutureWarning: Passing the following arguments to `Accelerator` is deprecated and will be removed in version 1.0 of Accelerate: dict_keys(['dispatch_batches', 'split_batches', 'even_batches', 'use_seedable_sampler']). Please pass an `accelerate.DataLoaderConfiguration` instead: \n",
      "dataloader_config = DataLoaderConfiguration(dispatch_batches=None, split_batches=False, even_batches=True, use_seedable_sampler=True)\n",
      "  warnings.warn(\n"
     ]
    },
    {
     "data": {
      "application/vnd.jupyter.widget-view+json": {
       "model_id": "9ff6d386d1d34616be68d95639ad58b2",
       "version_major": 2,
       "version_minor": 0
      },
      "text/plain": [
       "  0%|          | 0/1804 [00:00<?, ?it/s]"
      ]
     },
     "metadata": {},
     "output_type": "display_data"
    },
    {
     "name": "stderr",
     "output_type": "stream",
     "text": [
      "c:\\Users\\Yusuf\\Anaconda3\\Lib\\site-packages\\torch\\utils\\data\\dataloader.py:665: UserWarning: 'pin_memory' argument is set as true but no accelerator is found, then device pinned memory won't be used.\n",
      "  warnings.warn(warn_msg)\n"
     ]
    },
    {
     "name": "stdout",
     "output_type": "stream",
     "text": [
      "{'loss': 0.9269, 'grad_norm': 1.8219565153121948, 'learning_rate': 4.861419068736142e-05, 'epoch': 0.06}\n",
      "{'loss': 0.4265, 'grad_norm': 17.04303550720215, 'learning_rate': 4.722838137472284e-05, 'epoch': 0.11}\n",
      "{'loss': 0.3099, 'grad_norm': 0.36944687366485596, 'learning_rate': 4.584257206208426e-05, 'epoch': 0.17}\n",
      "{'loss': 0.3331, 'grad_norm': 7.2172532081604, 'learning_rate': 4.445676274944568e-05, 'epoch': 0.22}\n",
      "{'loss': 0.341, 'grad_norm': 17.76565933227539, 'learning_rate': 4.30709534368071e-05, 'epoch': 0.28}\n",
      "{'loss': 0.3782, 'grad_norm': 6.366988658905029, 'learning_rate': 4.168514412416852e-05, 'epoch': 0.33}\n",
      "{'loss': 0.3479, 'grad_norm': 29.49399185180664, 'learning_rate': 4.0299334811529936e-05, 'epoch': 0.39}\n",
      "{'loss': 0.3677, 'grad_norm': 32.474124908447266, 'learning_rate': 3.8913525498891355e-05, 'epoch': 0.44}\n",
      "{'loss': 0.306, 'grad_norm': 17.153549194335938, 'learning_rate': 3.7527716186252774e-05, 'epoch': 0.5}\n",
      "{'loss': 0.2725, 'grad_norm': 9.060556411743164, 'learning_rate': 3.6141906873614186e-05, 'epoch': 0.55}\n",
      "{'loss': 0.206, 'grad_norm': 22.835975646972656, 'learning_rate': 3.475609756097561e-05, 'epoch': 0.61}\n",
      "{'loss': 0.2681, 'grad_norm': 5.110490322113037, 'learning_rate': 3.337028824833703e-05, 'epoch': 0.67}\n",
      "{'loss': 0.1988, 'grad_norm': 0.04117146506905556, 'learning_rate': 3.198447893569845e-05, 'epoch': 0.72}\n",
      "{'loss': 0.2126, 'grad_norm': 1.7608962059020996, 'learning_rate': 3.059866962305987e-05, 'epoch': 0.78}\n",
      "{'loss': 0.3028, 'grad_norm': 0.884145975112915, 'learning_rate': 2.9212860310421285e-05, 'epoch': 0.83}\n",
      "{'loss': 0.2387, 'grad_norm': 23.236053466796875, 'learning_rate': 2.7827050997782704e-05, 'epoch': 0.89}\n",
      "{'loss': 0.2727, 'grad_norm': 0.12030218541622162, 'learning_rate': 2.6441241685144123e-05, 'epoch': 0.94}\n",
      "{'loss': 0.2673, 'grad_norm': 0.3828265070915222, 'learning_rate': 2.5055432372505546e-05, 'epoch': 1.0}\n"
     ]
    },
    {
     "data": {
      "application/vnd.jupyter.widget-view+json": {
       "model_id": "3fb6c5a3106f447b8a7457ceaf62df5e",
       "version_major": 2,
       "version_minor": 0
      },
      "text/plain": [
       "  0%|          | 0/113 [00:00<?, ?it/s]"
      ]
     },
     "metadata": {},
     "output_type": "display_data"
    },
    {
     "name": "stdout",
     "output_type": "stream",
     "text": [
      "{'eval_loss': 0.2723086178302765, 'eval_accuracy': 0.9451219512195121, 'eval_precision': 0.8872464288420012, 'eval_recall': 0.8598232217454335, 'eval_f1': 0.871228204668353, 'eval_runtime': 90.5011, 'eval_samples_per_second': 19.933, 'eval_steps_per_second': 1.249, 'epoch': 1.0}\n"
     ]
    },
    {
     "name": "stderr",
     "output_type": "stream",
     "text": [
      "c:\\Users\\Yusuf\\Anaconda3\\Lib\\site-packages\\torch\\utils\\data\\dataloader.py:665: UserWarning: 'pin_memory' argument is set as true but no accelerator is found, then device pinned memory won't be used.\n",
      "  warnings.warn(warn_msg)\n"
     ]
    },
    {
     "name": "stdout",
     "output_type": "stream",
     "text": [
      "{'loss': 0.0787, 'grad_norm': 0.03692565858364105, 'learning_rate': 2.3669623059866965e-05, 'epoch': 1.05}\n",
      "{'loss': 0.0785, 'grad_norm': 36.578163146972656, 'learning_rate': 2.2283813747228384e-05, 'epoch': 1.11}\n",
      "{'loss': 0.1339, 'grad_norm': 0.12759342789649963, 'learning_rate': 2.0898004434589803e-05, 'epoch': 1.16}\n",
      "{'loss': 0.107, 'grad_norm': 0.4656509757041931, 'learning_rate': 1.9512195121951222e-05, 'epoch': 1.22}\n",
      "{'loss': 0.0969, 'grad_norm': 0.019880132749676704, 'learning_rate': 1.812638580931264e-05, 'epoch': 1.27}\n",
      "{'loss': 0.1784, 'grad_norm': 0.03115953877568245, 'learning_rate': 1.674057649667406e-05, 'epoch': 1.33}\n",
      "{'loss': 0.1338, 'grad_norm': 0.15518440306186676, 'learning_rate': 1.5354767184035476e-05, 'epoch': 1.39}\n",
      "{'loss': 0.1173, 'grad_norm': 0.3727922737598419, 'learning_rate': 1.3968957871396895e-05, 'epoch': 1.44}\n",
      "{'loss': 0.1206, 'grad_norm': 39.81464767456055, 'learning_rate': 1.2583148558758316e-05, 'epoch': 1.5}\n",
      "{'loss': 0.1258, 'grad_norm': 0.029329251497983932, 'learning_rate': 1.1197339246119735e-05, 'epoch': 1.55}\n",
      "{'loss': 0.1118, 'grad_norm': 3.172147035598755, 'learning_rate': 9.811529933481154e-06, 'epoch': 1.61}\n",
      "{'loss': 0.0887, 'grad_norm': 5.912437915802002, 'learning_rate': 8.425720620842573e-06, 'epoch': 1.66}\n",
      "{'loss': 0.1457, 'grad_norm': 2.7370686531066895, 'learning_rate': 7.039911308203992e-06, 'epoch': 1.72}\n",
      "{'loss': 0.1497, 'grad_norm': 0.02573198638856411, 'learning_rate': 5.65410199556541e-06, 'epoch': 1.77}\n",
      "{'loss': 0.1399, 'grad_norm': 0.018650909885764122, 'learning_rate': 4.26829268292683e-06, 'epoch': 1.83}\n",
      "{'loss': 0.1586, 'grad_norm': 0.946880578994751, 'learning_rate': 2.8824833702882482e-06, 'epoch': 1.88}\n",
      "{'loss': 0.0764, 'grad_norm': 0.02011222578585148, 'learning_rate': 1.4966740576496675e-06, 'epoch': 1.94}\n",
      "{'loss': 0.0926, 'grad_norm': 40.804527282714844, 'learning_rate': 1.1086474501108648e-07, 'epoch': 2.0}\n"
     ]
    },
    {
     "data": {
      "application/vnd.jupyter.widget-view+json": {
       "model_id": "5c43608181a54650b500d37adb13f422",
       "version_major": 2,
       "version_minor": 0
      },
      "text/plain": [
       "  0%|          | 0/113 [00:00<?, ?it/s]"
      ]
     },
     "metadata": {},
     "output_type": "display_data"
    },
    {
     "name": "stdout",
     "output_type": "stream",
     "text": [
      "{'eval_loss': 0.22276248037815094, 'eval_accuracy': 0.9512195121951219, 'eval_precision': 0.8830568781908221, 'eval_recall': 0.9058561458030056, 'eval_f1': 0.8929810848041434, 'eval_runtime': 91.7391, 'eval_samples_per_second': 19.664, 'eval_steps_per_second': 1.232, 'epoch': 2.0}\n",
      "{'train_runtime': 3463.1589, 'train_samples_per_second': 4.166, 'train_steps_per_second': 0.521, 'train_loss': 0.22479892040896096, 'epoch': 2.0}\n",
      "Multi-class test sonucu:\n"
     ]
    },
    {
     "name": "stderr",
     "output_type": "stream",
     "text": [
      "c:\\Users\\Yusuf\\Anaconda3\\Lib\\site-packages\\torch\\utils\\data\\dataloader.py:665: UserWarning: 'pin_memory' argument is set as true but no accelerator is found, then device pinned memory won't be used.\n",
      "  warnings.warn(warn_msg)\n"
     ]
    },
    {
     "data": {
      "application/vnd.jupyter.widget-view+json": {
       "model_id": "245c1e2fbd2c4e12afb220bb072a7641",
       "version_major": 2,
       "version_minor": 0
      },
      "text/plain": [
       "  0%|          | 0/113 [00:00<?, ?it/s]"
      ]
     },
     "metadata": {},
     "output_type": "display_data"
    },
    {
     "name": "stdout",
     "output_type": "stream",
     "text": [
      "{'eval_loss': 0.22276248037815094, 'eval_accuracy': 0.9512195121951219, 'eval_precision': 0.8830568781908221, 'eval_recall': 0.9058561458030056, 'eval_f1': 0.8929810848041434, 'eval_runtime': 90.6605, 'eval_samples_per_second': 19.898, 'eval_steps_per_second': 1.246, 'epoch': 2.0}\n"
     ]
    },
    {
     "name": "stderr",
     "output_type": "stream",
     "text": [
      "c:\\Users\\Yusuf\\Anaconda3\\Lib\\site-packages\\torch\\utils\\data\\dataloader.py:665: UserWarning: 'pin_memory' argument is set as true but no accelerator is found, then device pinned memory won't be used.\n",
      "  warnings.warn(warn_msg)\n"
     ]
    },
    {
     "data": {
      "application/vnd.jupyter.widget-view+json": {
       "model_id": "8ede17c8bed24ae78c76ec674d43f5f8",
       "version_major": 2,
       "version_minor": 0
      },
      "text/plain": [
       "  0%|          | 0/113 [00:00<?, ?it/s]"
      ]
     },
     "metadata": {},
     "output_type": "display_data"
    },
    {
     "name": "stdout",
     "output_type": "stream",
     "text": [
      "              precision    recall  f1-score   support\n",
      "\n",
      "      INSULT       0.91      0.96      0.94       482\n",
      "      RACIST       0.98      0.96      0.97       411\n",
      "      SEXIST       0.96      0.96      0.96       420\n",
      "   PROFANITY       0.97      0.93      0.95       477\n",
      "       OTHER       0.59      0.71      0.65        14\n",
      "\n",
      "    accuracy                           0.95      1804\n",
      "   macro avg       0.88      0.91      0.89      1804\n",
      "weighted avg       0.95      0.95      0.95      1804\n",
      "\n",
      "Confusion Matrix:\n",
      "[[463   4   7   7   1]\n",
      " [  8 396   2   2   3]\n",
      " [  9   3 405   2   1]\n",
      " [ 25   2   6 442   2]\n",
      " [  3   0   0   1  10]]\n"
     ]
    }
   ],
   "source": [
    "off_df = df[df[\"is_offensive\"] == 1].copy().reset_index(drop=True)\n",
    "target2id = {label: i for i, label in enumerate(off_df[\"target\"].unique())}\n",
    "id2target = {i: label for label, i in target2id.items()}\n",
    "off_df[\"target_id\"] = off_df[\"target\"].map(target2id)\n",
    "\n",
    "train_off, test_off = train_test_split(off_df, test_size=0.2, random_state=42, stratify=off_df[\"target_id\"])\n",
    "train_dataset_off = TextDataset(train_off[\"text\"], train_off[\"target_id\"], tokenizer)\n",
    "test_dataset_off = TextDataset(test_off[\"text\"], test_off[\"target_id\"], tokenizer)\n",
    "\n",
    "model_multi = AutoModelForSequenceClassification.from_pretrained(MODEL_NAME, num_labels=len(target2id))\n",
    "\n",
    "training_args_multi = TrainingArguments(\n",
    "    output_dir=\"./results-multi\",\n",
    "    num_train_epochs=2,\n",
    "    per_device_train_batch_size=8,\n",
    "    per_device_eval_batch_size=16,\n",
    "    evaluation_strategy=\"epoch\",\n",
    "    save_strategy=\"no\",\n",
    "    logging_dir=\"./logs-multi\",\n",
    "    logging_steps=50,\n",
    "    report_to=[]\n",
    ")\n",
    "\n",
    "def compute_metrics_multi(pred):\n",
    "    labels = pred.label_ids\n",
    "    preds = np.argmax(pred.predictions, axis=1)\n",
    "    precision, recall, f1, _ = precision_recall_fscore_support(labels, preds, average='macro')\n",
    "    acc = accuracy_score(labels, preds)\n",
    "    return {'accuracy': acc, 'precision': precision, 'recall': recall, 'f1': f1}\n",
    "\n",
    "trainer_multi = Trainer(\n",
    "    model=model_multi,\n",
    "    args=training_args_multi,\n",
    "    train_dataset=train_dataset_off,\n",
    "    eval_dataset=test_dataset_off,\n",
    "    compute_metrics=compute_metrics_multi\n",
    ")\n",
    "\n",
    "trainer_multi.train()\n",
    "print(\"Multi-class test sonucu:\")\n",
    "print(trainer_multi.evaluate())\n",
    "preds_multi = trainer_multi.predict(test_dataset_off)\n",
    "y_true_multi = preds_multi.label_ids\n",
    "y_pred_multi = np.argmax(preds_multi.predictions, axis=1)\n",
    "print(classification_report(y_true_multi, y_pred_multi, target_names=[id2target[i] for i in range(len(id2target))]))\n",
    "print(\"Confusion Matrix:\")\n",
    "print(confusion_matrix(y_true_multi, y_pred_multi))\n",
    "\n",
    "etiket_aciklamalari = {\n",
    "    \"INSULT\": \"INSULT (Hakaret)\",\n",
    "    \"SEXIST\": \"SEXIST (Cinsiyetçi)\",\n",
    "    \"RACIST\": \"RACIST (Irkçı)\",\n",
    "    \"PROFANITY\": \"PROFANITY (Küfürlü)\",\n",
    "    \"OTHER\": \"OTHER (Diğer)\"\n",
    "}"
   ]
  },
  {
   "cell_type": "markdown",
   "id": "ac43d118",
   "metadata": {},
   "source": [
    "## 7. Multi-Class Sınıflandırma için Detaylı Rapor"
   ]
  },
  {
   "cell_type": "code",
   "execution_count": 8,
   "id": "b260d7b8",
   "metadata": {},
   "outputs": [
    {
     "name": "stderr",
     "output_type": "stream",
     "text": [
      "c:\\Users\\Yusuf\\Anaconda3\\Lib\\site-packages\\torch\\utils\\data\\dataloader.py:665: UserWarning: 'pin_memory' argument is set as true but no accelerator is found, then device pinned memory won't be used.\n",
      "  warnings.warn(warn_msg)\n"
     ]
    },
    {
     "data": {
      "application/vnd.jupyter.widget-view+json": {
       "model_id": "7f97c5c9cbd5428cb903aab0015ba31f",
       "version_major": 2,
       "version_minor": 0
      },
      "text/plain": [
       "  0%|          | 0/113 [00:00<?, ?it/s]"
      ]
     },
     "metadata": {},
     "output_type": "display_data"
    },
    {
     "name": "stdout",
     "output_type": "stream",
     "text": [
      "              precision    recall  f1-score   support\n",
      "\n",
      "      INSULT       0.91      0.96      0.94       482\n",
      "      RACIST       0.98      0.96      0.97       411\n",
      "      SEXIST       0.96      0.96      0.96       420\n",
      "   PROFANITY       0.97      0.93      0.95       477\n",
      "       OTHER       0.59      0.71      0.65        14\n",
      "\n",
      "    accuracy                           0.95      1804\n",
      "   macro avg       0.88      0.91      0.89      1804\n",
      "weighted avg       0.95      0.95      0.95      1804\n",
      "\n",
      "[[463   4   7   7   1]\n",
      " [  8 396   2   2   3]\n",
      " [  9   3 405   2   1]\n",
      " [ 25   2   6 442   2]\n",
      " [  3   0   0   1  10]]\n"
     ]
    }
   ],
   "source": [
    "preds_multi = trainer_multi.predict(test_dataset_off)\n",
    "y_true_multi = preds_multi.label_ids\n",
    "y_pred_multi = np.argmax(preds_multi.predictions, axis=1)\n",
    "print(classification_report(y_true_multi, y_pred_multi, target_names=[id2target[i] for i in range(len(id2target))]))\n",
    "print(confusion_matrix(y_true_multi, y_pred_multi))"
   ]
  },
  {
   "cell_type": "markdown",
   "id": "b7b782fa",
   "metadata": {},
   "source": [
    "## 8. Kullanıcıdan Cümle Alarak Tahmin"
   ]
  },
  {
   "cell_type": "code",
   "execution_count": null,
   "id": "c4da1274",
   "metadata": {},
   "outputs": [],
   "source": [
    "while True:\n",
    "    text = input(\"Bir cümle girin (çıkmak için 'q'): \")\n",
    "    if text.lower() == 'q':\n",
    "        break\n",
    "    inputs = tokenizer(text, return_tensors=\"pt\", truncation=True, padding=\"max_length\", max_length=128)\n",
    "    with torch.no_grad():\n",
    "        out = model_binary(**inputs)\n",
    "        binary_pred = torch.argmax(out.logits, dim=1).item()\n",
    "        if binary_pred == 0:\n",
    "            print(\"Saldırgan DEĞİL.\")\n",
    "        else:\n",
    "            print(\"Saldırgan! Türü tahmin ediliyor...\")\n",
    "            out2 = model_multi(**inputs)\n",
    "            multi_pred = torch.argmax(out2.logits, dim=1).item()\n",
    "            print(f\"Tahmini saldırganlık türü: {id2target[multi_pred]}\")"
   ]
  }
 ],
 "metadata": {
  "kernelspec": {
   "display_name": "base",
   "language": "python",
   "name": "python3"
  },
  "language_info": {
   "codemirror_mode": {
    "name": "ipython",
    "version": 3
   },
   "file_extension": ".py",
   "mimetype": "text/x-python",
   "name": "python",
   "nbconvert_exporter": "python",
   "pygments_lexer": "ipython3",
   "version": "3.12.7"
  }
 },
 "nbformat": 4,
 "nbformat_minor": 5
}
